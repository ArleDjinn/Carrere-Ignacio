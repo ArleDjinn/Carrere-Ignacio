{
  "nbformat": 4,
  "nbformat_minor": 0,
  "metadata": {
    "colab": {
      "provenance": []
    },
    "kernelspec": {
      "name": "python3",
      "display_name": "Python 3"
    },
    "language_info": {
      "name": "python"
    }
  },
  "cells": [
    {
      "cell_type": "code",
      "execution_count": 7,
      "metadata": {
        "colab": {
          "base_uri": "https://localhost:8080/"
        },
        "id": "GbUAfPcKjr5J",
        "outputId": "1bc92f39-a2f6-4be7-e0f9-306d9d9970f7"
      },
      "outputs": [
        {
          "output_type": "stream",
          "name": "stdout",
          "text": [
            "[[2. 2. 0. 1.]\n",
            " [2. 1. 1. 0.]\n",
            " [0. 0. 0. 1.]\n",
            " [1. 2. 0. 1.]\n",
            " [1. 2. 0. 0.]\n",
            " [1. 1. 1. 0.]\n",
            " [0. 1. 1. 1.]\n",
            " [2. 2. 0. 0.]\n",
            " [2. 0. 1. 1.]\n",
            " [1. 0. 1. 1.]]\n",
            "Test Instance:      Age  Income Student Credit_Rating\n",
            "0  young  medium      no          fair\n",
            "Predicted Class: no\n",
            "Predicted Probabilities: [[0.92592593 0.07407407]]\n"
          ]
        }
      ],
      "source": [
        "import numpy as np\n",
        "import pandas as pd\n",
        "from sklearn.naive_bayes import CategoricalNB\n",
        "from sklearn.preprocessing import OrdinalEncoder\n",
        "\n",
        "# Dataset: Feature columns and target\n",
        "data = {\n",
        "    \"Age\": [\"young\", \"young\", \"middle_aged\", \"senior\", \"senior\", \"senior\", \"middle_aged\", \"young\", \"young\", \"senior\"],\n",
        "    \"Income\": [\"medium\", \"low\", \"high\", \"medium\", \"medium\", \"low\", \"low\", \"medium\", \"high\", \"high\"],\n",
        "    \"Student\": [\"no\", \"yes\", \"no\", \"no\", \"no\", \"yes\", \"yes\", \"no\", \"yes\", \"yes\"],\n",
        "    \"Credit_Rating\": [\"fair\", \"excellent\", \"fair\", \"fair\", \"excellent\", \"excellent\", \"fair\", \"excellent\", \"fair\", \"fair\"],\n",
        "    \"Buy_Car\": [\"no\", \"yes\", \"yes\", \"no\", \"no\", \"yes\", \"yes\", \"no\", \"yes\", \"no\"]\n",
        "}\n",
        "\n",
        "# Convert dataset to a pandas DataFrame\n",
        "df = pd.DataFrame(data)\n",
        "\n",
        "# Separate features (X) and target (y)\n",
        "X = df[[\"Age\", \"Income\", \"Student\", \"Credit_Rating\"]]\n",
        "y = df[\"Buy_Car\"]\n",
        "\n",
        "# Encode categorical features into numeric form\n",
        "encoder = OrdinalEncoder()\n",
        "X_encoded = encoder.fit_transform(X)\n",
        "print(X_encoded)\n",
        "\n",
        "# Encode the target\n",
        "y_encoded = np.where(y == \"yes\", 1, 0)\n",
        "\n",
        "# Train a Categorical Naive Bayes model\n",
        "model = CategoricalNB()\n",
        "model.fit(X_encoded, y_encoded)\n",
        "\n",
        "test_instance = pd.DataFrame(\n",
        "    [[\"young\", \"medium\", \"no\", \"fair\"]],\n",
        "    columns=[\"Age\", \"Income\", \"Student\", \"Credit_Rating\"]\n",
        ")\n",
        "\n",
        "# Encode the test instance\n",
        "test_encoded = encoder.transform(test_instance)\n",
        "\n",
        "# Make predictions\n",
        "predicted_class = model.predict(test_encoded)\n",
        "predicted_probabilities = model.predict_proba(test_encoded)\n",
        "\n",
        "# Make predictions\n",
        "predicted_class = model.predict(test_encoded)\n",
        "predicted_probabilities = model.predict_proba(test_encoded)\n",
        "\n",
        "# Print results\n",
        "print(f\"Test Instance: {test_instance}\")\n",
        "print(f\"Predicted Class: {'yes' if predicted_class[0] == 1 else 'no'}\")\n",
        "print(f\"Predicted Probabilities: {predicted_probabilities}\")\n"
      ]
    }
  ]
}